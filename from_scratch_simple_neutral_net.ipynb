{
 "cells": [
  {
   "cell_type": "markdown",
   "id": "514cde24-8c4e-4d25-a2ef-370135ad84dc",
   "metadata": {
    "tags": []
   },
   "source": [
    "# How does a neural net really work? "
   ]
  },
  {
   "cell_type": "markdown",
   "id": "18d45677-777b-4c48-9521-18944863ff92",
   "metadata": {},
   "source": [
    "Exploring a basic neural net to get an intuition of how it works. \n",
    "\n",
    "This current notebook adapted from the following sources:  \n",
    "- [Jeremy Howard's kaggle notebook: How does a neural net really work?](https://www.kaggle.com/code/jhoward/how-does-a-neural-net-really-work)  \n",
    "- [fastai book Chapter 4: Under the Hood: Training a Digit Classifier](https://github.com/fastai/fastbook/blob/master/04_mnist_basics.ipynb)  "
   ]
  },
  {
   "cell_type": "markdown",
   "id": "eb9660b3-4c7e-4c1b-a0dd-9a5573a98500",
   "metadata": {},
   "source": [
    "## What is a neural network? "
   ]
  },
  {
   "cell_type": "markdown",
   "id": "1bce9fa8-70f2-4cf6-9be6-24caede3719b",
   "metadata": {
    "tags": []
   },
   "source": [
    "[A neural network consists of interconnected nodes (neurons/nodes/units) which process and transmit data through a series of connections.](https://www.deep-mind.org/2023/03/26/the-universal-approximation-theorem/)  \n",
    "\n",
    "The generic layered architecture of a neural network can be divided into 3 different types:  \n",
    "- input layer (receives input data and passes it on to the subsequent layer)  \n",
    "- hidden layer (does most of the computation)\n",
    "- output layer (receives output from the hidden layers, conducts the final computation and produces the final output of the network)  \n",
    "\n",
    "See below for the structure of a typical neural network - source: https://www.deep-mind.org/2023/03/26/the-universal-approximation-theorem/"
   ]
  },
  {
   "cell_type": "markdown",
   "id": "f5b60964-8fd5-4d15-9dfd-bf083daf4c89",
   "metadata": {
    "tags": []
   },
   "source": [
    "![Structure of a typical neural network - source: https://www.deep-mind.org/2023/03/26/the-universal-approximation-theorem/](https://www.deep-mind.org/wp-content/ql-cache/quicklatex.com-832dc2ccf282c799fa68d8c211646900_l3.svg)"
   ]
  },
  {
   "cell_type": "markdown",
   "id": "8614ac97-7254-471d-a6b5-85dd4d690860",
   "metadata": {},
   "source": [
    "### [What happens in one layer?]((https://www.kaggle.com/code/jhoward/how-does-a-neural-net-really-work)\n",
    "\n",
    "In the simplest of neural networks, the neural network is just a mathematical function. For one layer, the function will perform the following basic steps:  \n",
    "\n",
    "1. Multiplies each input by a number of parameters,  \n",
    "2. Adds them up for each group of parameters,  \n",
    "3. Replaces the negative numbers with zero (if using Rectified Linear Unit as the activation function)  \n",
    "\n",
    "The 3 steps are then repeated using the outputs of the previous layers as the inputs to the next layer.  \n",
    "\n",
    "The initial parameters are selected randomly, and then updated using an optimization algorithm such as stochastic gradient descent, using a loss function (to calculate how good the model is) and a predetermined learning rate. "
   ]
  },
  {
   "cell_type": "markdown",
   "id": "83bfdbcb-7199-4c96-98c9-daea5253ff8a",
   "metadata": {},
   "source": [
    "## What is an optimization algorithm? \n",
    "\n",
    "The are many optimization algorithms available that are meant for certain problems. [There is no reason to prefer one algorithm over another unless we make assumptions about the probability distribution over the space of possible objective functions.](https://books.google.com.sg/books?hl=en&lr=&id=uBSMDwAAQBAJ&oi=fnd&pg=PR7&dq=algorithms+for+optimization&ots=sxZU0plyMF&sig=d9xWr8KEwcF1e9WEzgronSCYU4U&redir_esc=y#v=onepage&q=algorithms%20for%20optimization&f=false) For many optimization algorithms to work effectively, there needs to be some regularity in the objective function, such as Lipschitz continuity or convexity. Each algorithm would have their own assumptions, motivations for their mechanism and their advantages and disadvantages.\n",
    "\n",
    "**What is gradient descent?**\n",
    "\n",
    "Gradient descent is an [iterative first-order optimization algorithm used to find a local minimum/maximum of a given function](https://towardsdatascience.com/gradient-descent-algorithm-a-deep-dive-cf04e8115f21). The requirements are that the function has to be:  \n",
    "- differentiable (i.e. it has a derivative for each point in its domain)  \n",
    "- convex \n",
    "\n",
    "For more information: \n",
    "- [3 blue 1 brown: Gradient descent, how neural networks learn](https://www.3blue1brown.com/lessons/gradient-descent)\n",
    "- https://towardsdatascience.com/gradient-descent-algorithm-a-deep-dive-cf04e8115f21"
   ]
  },
  {
   "cell_type": "markdown",
   "id": "e5bf1dce-c1ab-40f2-be57-9b5aadab708e",
   "metadata": {},
   "source": [
    "### [intuition: How can we fit a function with gradient descent?](https://www.kaggle.com/code/jhoward/how-does-a-neural-net-really-work) "
   ]
  },
  {
   "cell_type": "markdown",
   "id": "299067c8-767c-4b52-aed2-39b9b6711af3",
   "metadata": {},
   "source": [
    "To get to the intuition behind gradient descent, let's start with a simple function - a quadratic function."
   ]
  },
  {
   "cell_type": "code",
   "execution_count": 1,
   "id": "99bb7658-df78-48ad-8b0f-7f313084adcd",
   "metadata": {
    "ExecuteTime": {
     "end_time": "2023-08-28T05:49:58.908374Z",
     "start_time": "2023-08-28T05:49:57.695774Z"
    },
    "tags": []
   },
   "outputs": [],
   "source": [
    "# libraries\n",
    "from functools import partial\n",
    "from ipywidgets import interact\n",
    "import matplotlib.figure\n",
    "import matplotlib.pyplot as plt\n",
    "import numpy as np\n",
    "import torch\n",
    "import torch.nn.functional as F\n",
    "from typing import Callable\n",
    "from typing import Tuple"
   ]
  },
  {
   "cell_type": "code",
   "execution_count": 2,
   "id": "f7b26516-dfd5-40ad-92d1-1f2f6f3657f5",
   "metadata": {
    "ExecuteTime": {
     "end_time": "2023-08-28T05:49:58.924048Z",
     "start_time": "2023-08-28T05:49:58.910242Z"
    },
    "tags": []
   },
   "outputs": [],
   "source": [
    "def plot_function(\n",
    "    f: Callable,\n",
    "    title: str = None,\n",
    "    min: float = -2.1,\n",
    "    max: float = 2.1,\n",
    "    color: str = 'r',\n",
    "    ylim: Tuple = None\n",
    ") -> plt.Figure:\n",
    "    \"\"\"Create a simple plot of a generic function\"\"\"\n",
    "    \n",
    "    x = torch.linspace(min, max, 100)\n",
    "    if ylim:\n",
    "        plt.ylim(ylim)\n",
    "    plt.plot(x, f(x), color)\n",
    "    if title is not None:\n",
    "        plt.title(title)"
   ]
  },
  {
   "cell_type": "code",
   "execution_count": 3,
   "id": "92d4c13b-b046-487b-b471-cb9b10fee448",
   "metadata": {
    "ExecuteTime": {
     "end_time": "2023-08-28T05:49:58.939476Z",
     "start_time": "2023-08-28T05:49:58.925417Z"
    },
    "tags": []
   },
   "outputs": [],
   "source": [
    "def quadratic_function(\n",
    "    a: float, \n",
    "    b: float, \n",
    "    c: float, \n",
    "    x: float\n",
    ")-> Callable: \n",
    "    \"\"\"Define a quadratic function\"\"\"\n",
    "    return a*x**2 + b*x + c\n",
    "    \n",
    "def make_quadratic(\n",
    "    a: float,\n",
    "    b: float,\n",
    "    c: float\n",
    ")-> Callable:\n",
    "    \"\"\"Create a generic quadratic function by passing in values for the parameters a,b,c\"\"\"\n",
    "    return partial(quadratic_function, a, b, c)"
   ]
  },
  {
   "cell_type": "code",
   "execution_count": 4,
   "id": "9286033d-b8a5-423f-9e5b-4607f8d58f4e",
   "metadata": {
    "ExecuteTime": {
     "end_time": "2023-08-28T05:49:58.955449Z",
     "start_time": "2023-08-28T05:49:58.942450Z"
    },
    "tags": []
   },
   "outputs": [],
   "source": [
    "# simulate some noisy data \n",
    "def noise(x, scale):\n",
    "    return np.random.normal(scale=scale, size=x.shape)\n",
    "\n",
    "def add_noise(x, multiply, add):\n",
    "    return x*(1+noise(x,multiply))+noise(x, add)\n",
    "\n",
    "np.random.seed(42)\n",
    "def f(x): return 3*x**2 + 2*x + 1 #'true' function\n",
    "x = torch.linspace(-2,2,steps=20)[:,None]\n",
    "y = add_noise(f(x), 0.15, 1.5)"
   ]
  },
  {
   "cell_type": "markdown",
   "id": "4234db34-d263-450c-b4c3-cfc96ae6f82b",
   "metadata": {},
   "source": [
    "Here's some simulated data below. **How can we fit or find the optimal parameters for a function using gradient descent?** "
   ]
  },
  {
   "cell_type": "code",
   "execution_count": 5,
   "id": "343e1500-f07a-402c-b38a-516f32cfe629",
   "metadata": {
    "ExecuteTime": {
     "end_time": "2023-08-28T05:49:59.083517Z",
     "start_time": "2023-08-28T05:49:58.957451Z"
    },
    "tags": []
   },
   "outputs": [
    {
     "data": {
      "image/png": "[encoded data removed]",
      "text/plain": [
       "<Figure size 640x480 with 1 Axes>"
      ]
     },
     "metadata": {},
     "output_type": "display_data"
    }
   ],
   "source": [
    "# visualize the simulated data\n",
    "plt.scatter(x,y);"
   ]
  },
  {
   "cell_type": "markdown",
   "id": "a966c290-37fa-4c4e-b31b-5e27dc299335",
   "metadata": {
    "tags": []
   },
   "source": [
    "Before we can find the 'best' fit, we also need to quantify what we mean by model fit.   \n",
    "\n",
    "A way of quantifying this would be to measure the distance from the model/curve to the data points. To ensure that negative distances do not cancel out the positive distances, we find the absolute of this distance, and then we find the mean of all the absolute distance values.  \n",
    "\n",
    "This is known as the mean absolute error (MAE), which is mean of the absolute distance from each data point to the model/curve.  \n",
    "This is our loss function for our current use case.  \n",
    "\n",
    "The 'best' fit would be a model with parameters that have the lowest value for MAE. "
   ]
  },
  {
   "cell_type": "code",
   "execution_count": 6,
   "id": "d52f1fb5-d13f-4add-aace-d6f819566aaa",
   "metadata": {
    "ExecuteTime": {
     "end_time": "2023-08-28T05:49:59.098920Z",
     "start_time": "2023-08-28T05:49:59.086436Z"
    },
    "tags": []
   },
   "outputs": [],
   "source": [
    "def mae(\n",
    "    predicted: list, \n",
    "    true: list\n",
    ")-> float:\n",
    "    \"\"\"calculate mean absolute error based on predicted and true values\"\"\"\n",
    "    return (torch.abs(predicted-true)).mean()"
   ]
  },
  {
   "cell_type": "markdown",
   "id": "f5d159d4-feb8-4b15-82bc-3e6091ddacd0",
   "metadata": {},
   "source": [
    "#### Manual method"
   ]
  },
  {
   "cell_type": "markdown",
   "id": "c6680a71-2b50-4e47-ba4f-2e744e7a1b6e",
   "metadata": {},
   "source": [
    "This is a method based on visually eye-balling the fit and the displayed mean absolute error associated with manual changes in the parameter values of the quadratic function.  \n",
    "Although this is rudimentary, it is useful in giving us a basic intuition as to what we are trying to achieve in fitting a model to a dataset. "
   ]
  },
  {
   "cell_type": "code",
   "execution_count": 7,
   "id": "71ae329f-ab52-4064-8041-95e83588b317",
   "metadata": {
    "ExecuteTime": {
     "end_time": "2023-08-28T05:49:59.209814Z",
     "start_time": "2023-08-28T05:49:59.100871Z"
    },
    "tags": []
   },
   "outputs": [
    {
     "data": {
      "application/vnd.jupyter.widget-view+json": {
       "model_id": "6480a4420f624d928683baa2aef85e4e",
       "version_major": 2,
       "version_minor": 0
      },
      "text/plain": [
       "interactive(children=(FloatSlider(value=1.1, description='a', max=3.3000000000000003, min=-1.1), FloatSlider(v…"
      ]
     },
     "metadata": {},
     "output_type": "display_data"
    }
   ],
   "source": [
    "@interact(a=1.1, b=1.1, c=1.1)\n",
    "def plot_quadratic(a,b,c):\n",
    "    f = make_quadratic(a,b,c)\n",
    "    plt.scatter(x,y)\n",
    "    loss = mae(f(x),y)\n",
    "    plot_function(\n",
    "        f,\n",
    "        ylim=(-3,13),\n",
    "        title=f\"Mean Absolute Error: {loss:.2f}\"\n",
    "    )"
   ]
  },
  {
   "cell_type": "markdown",
   "id": "8cd56dc9-aae4-40bb-ab4a-34ba3e186e59",
   "metadata": {},
   "source": [
    "#### [Automating gradient descent](https://www.kaggle.com/code/jhoward/how-does-a-neural-net-really-work)"
   ]
  },
  {
   "cell_type": "markdown",
   "id": "314999d1-4d00-4aad-b772-3fd9bc9bdbe1",
   "metadata": {},
   "source": [
    "[Intuition](https://www.kaggle.com/code/jhoward/how-does-a-neural-net-really-work): if we know the gradient of our `mae()` function (loss function) *with respect to* our parameters `a`, `b`, `c`, then we have a way of adjusting the parameters. i.e. if `a` has a negative gradient, then increasing `a` will decrease `mae()`. \n",
    "\n",
    "We would first need a function that takes in the parameters `a`, `b`, `c` as a single vector input, an returns the value of `mae()` based on those parameters. "
   ]
  },
  {
   "cell_type": "code",
   "execution_count": 8,
   "id": "2e580d81-d55e-42d3-afc2-71c3866b0aa5",
   "metadata": {
    "ExecuteTime": {
     "end_time": "2023-08-28T05:49:59.224815Z",
     "start_time": "2023-08-28T05:49:59.211795Z"
    },
    "tags": []
   },
   "outputs": [],
   "source": [
    "def quadratic_mae(params: list, y)-> float:\n",
    "    \"\"\"Return the mean absolute error for a generic quadratic function a*x^2 + b*x + c based on an input list of 3 parmeters\"\"\"\n",
    "    f = make_quadratic(*params)\n",
    "    return mae(f(x), y)"
   ]
  },
  {
   "cell_type": "markdown",
   "id": "3aa72fc4-db7e-4546-b1ec-1caf2be9bdf1",
   "metadata": {
    "tags": []
   },
   "source": [
    "We will use `PyTorch` to calculate the gradients for the parameters, and repeat this 10 times to see what effect this has on the loss/ mean absolute error. \n",
    "Note that we're also using a learning rate of 0.01 to start off with.  \n",
    "- if we pick a learning rate that is too low, we would need to do a lot of steps to minimize the loss. \n",
    "\n",
    "![low learning rate](https://raw.githubusercontent.com/fastai/fastbook/823b69e00aa1e1c1a45fe88bd346f11e8f89c1ff//images/chapter2_small.svg)\n",
    "\n",
    "- on the other hand, if we pick a learning rate that is too high. it can actually result in the loss getting worse as seen in the following illustrations:"
   ]
  },
  {
   "cell_type": "markdown",
   "id": "924fba87-6362-484c-bce7-cfa087439e08",
   "metadata": {
    "tags": []
   },
   "source": [
    "learning rate that is too high:  \n",
    "![high learning rate](https://raw.githubusercontent.com/fastai/fastbook/823b69e00aa1e1c1a45fe88bd346f11e8f89c1ff//images/chapter2_div.svg)  \n",
    "![other consequence of high learning rate](https://raw.githubusercontent.com/fastai/fastbook/823b69e00aa1e1c1a45fe88bd346f11e8f89c1ff//images/chapter2_bouncy.svg)"
   ]
  },
  {
   "cell_type": "code",
   "execution_count": 9,
   "id": "4c8c038e-4373-40a4-a039-1a7ccb2686ef",
   "metadata": {
    "ExecuteTime": {
     "end_time": "2023-08-28T05:49:59.869901Z",
     "start_time": "2023-08-28T05:49:59.225795Z"
    },
    "tags": []
   },
   "outputs": [
    {
     "name": "stdout",
     "output_type": "stream",
     "text": [
      "step:0; loss=7.55\n",
      "step:1; loss=7.52\n",
      "step:2; loss=7.46\n",
      "step:3; loss=7.36\n",
      "step:4; loss=7.24\n",
      "step:5; loss=7.08\n",
      "step:6; loss=6.89\n",
      "step:7; loss=6.67\n",
      "step:8; loss=6.41\n",
      "step:9; loss=6.13\n",
      "step:10; loss=5.83\n",
      "step:11; loss=5.49\n",
      "step:12; loss=5.15\n",
      "step:13; loss=4.79\n",
      "step:14; loss=4.41\n",
      "step:15; loss=4.02\n",
      "step:16; loss=3.61\n",
      "step:17; loss=3.20\n",
      "step:18; loss=2.78\n",
      "step:19; loss=2.34\n"
     ]
    }
   ],
   "source": [
    "learning_rate = 0.01 \n",
    "abc = torch.randn(3) # random initial parameters\n",
    "abc.requires_grad_() # tell pytorch to calculate gradients for these parameters \n",
    "\n",
    "for i in range(20):\n",
    "    loss = quadratic_mae(abc,y)\n",
    "    loss.backward() # get pytorch to calculate gradients\n",
    "    with torch.no_grad(): # dont calculate gradients for this as abc.grad*learning_rate is not part of the quadratic model \n",
    "        abc -= abc.grad*learning_rate # optimizer step\n",
    "    print(f\"step:{i}; loss={loss:.2f}\")"
   ]
  },
  {
   "cell_type": "code",
   "execution_count": 10,
   "id": "9e86aee8-d2ab-40d3-850d-6793f98d9ae8",
   "metadata": {
    "ExecuteTime": {
     "end_time": "2023-08-28T05:49:59.885886Z",
     "start_time": "2023-08-28T05:49:59.873883Z"
    },
    "tags": []
   },
   "outputs": [
    {
     "data": {
      "text/plain": [
       "tensor([1.3156, 1.8769, 1.5930], requires_grad=True)"
      ]
     },
     "execution_count": 10,
     "metadata": {},
     "output_type": "execute_result"
    }
   ],
   "source": [
    "abc"
   ]
  },
  {
   "cell_type": "markdown",
   "id": "85fa936e-f65e-4bf3-8cda-6c2fecb0dbdc",
   "metadata": {},
   "source": [
    "Note that in this simple example above, we did not split the dataset into a training set, validation set and test set - we just used all of the values for our simulated 'y' to calculate the loss. In a more practical setting, however, the [optimization step would involve mini-batches instead using the training dataset](https://github.com/fastai/fastbook/blob/master/04_mnist_basics.ipynb). We'd also monitor our performance metrics (in this case the MAE of the validation set) during this process. \n",
    "\n",
    "**Why use mini-batches?**   \n",
    "Calculating the loss for the whole dataset would take a very long time, while calculating it for a single data item would result in a very imprecise and unstable gradient. The compromise is to use mini-batches;  \n",
    "- larger batch sizes would result in a more accurate and stable estimate of the dataset's gradient from the loss function,  \n",
    "- but it will take longer and we will process fewer mini-batches per epoch. \n",
    "Also, we would randomly shuffle our dataset for each epoch, before we create the mini-batches. "
   ]
  },
  {
   "cell_type": "markdown",
   "id": "6100b5b9-3c61-4e01-8d74-a5a8c7b33453",
   "metadata": {
    "jp-MarkdownHeadingCollapsed": true,
    "tags": []
   },
   "source": [
    "#### [Summary of steps involved in gradient descent](https://github.com/fastai/fastbook/blob/master/04_mnist_basics.ipynb)\n",
    "\n",
    "1. Initialize the parameters to random values.  \n",
    "2. Calculate the predictions.  \n",
    "3. Calculate the loss.  \n",
    "4. Calculate the gradients (i.e. an approximation of how the parameters need to change)  \n",
    "5. Step the weights (i.e. update the parameters based on the calculated gradients)  \n",
    "6. Repeat the process  \n",
    "7. Stop the epochs - watch the training and validation losses and our performance metrics to decide when to stop. \n",
    "\n",
    "So now we know how gradient descent works to help us to automatically adjust the parameters of the function based on the existing data. But how can a neural network approximate any given function? see below:"
   ]
  },
  {
   "cell_type": "markdown",
   "id": "11ebabe9-3cd2-4772-892e-394c4bbd2c92",
   "metadata": {},
   "source": [
    "### How can a neural net approximate any given function?"
   ]
  },
  {
   "cell_type": "markdown",
   "id": "8290a7b1-8cd6-488b-8f9f-693a406be181",
   "metadata": {
    "tags": []
   },
   "source": [
    "A neural network can approximate any computable function, given enough parameters - this is implied by the Universal approximation theorem.\n",
    "\n",
    "Let's look at a simple [activation function (a functional that is applied to an intermediary output of a neuron) that allow it to model nonlinear relationships between the input and output data](https://www.deep-mind.org/2023/03/26/the-universal-approximation-theorem/). \n",
    "\n",
    "#### [ReLU function](https://www.deep-mind.org/2023/03/26/the-universal-approximation-theorem/)\n",
    "The rectified linear unit function maps any negative input to 0 and any positive input to itsef. The definition is as follows:\n",
    "\n",
    "![](https://www.deep-mind.org/wp-content/ql-cache/quicklatex.com-932b7b22111361835105b9ceb79c0ee1_l3.svg)  \n",
    "source: https://www.deep-mind.org/2023/03/26/the-universal-approximation-theorem/"
   ]
  },
  {
   "cell_type": "markdown",
   "id": "1bf15809-3529-4583-8383-d13309b08223",
   "metadata": {},
   "source": [
    "[So, how does the recified linear function work?](https://www.kaggle.com/code/jhoward/how-does-a-neural-net-really-work)"
   ]
  },
  {
   "cell_type": "code",
   "execution_count": 11,
   "id": "439bae44-d6fe-463f-b967-a262fe5569a6",
   "metadata": {
    "ExecuteTime": {
     "end_time": "2023-08-28T05:49:59.981885Z",
     "start_time": "2023-08-28T05:49:59.887885Z"
    },
    "tags": []
   },
   "outputs": [
    {
     "data": {
      "application/vnd.jupyter.widget-view+json": {
       "model_id": "ac0c1a35832543218de9e26a32f5bc8a",
       "version_major": 2,
       "version_minor": 0
      },
      "text/plain": [
       "interactive(children=(FloatSlider(value=1.5, description='weight', max=4.5, min=-1.5), FloatSlider(value=1.5, …"
      ]
     },
     "metadata": {},
     "output_type": "display_data"
    }
   ],
   "source": [
    "def rectified_linear(\n",
    "    weight: float,\n",
    "    bias: float,\n",
    "    x: list\n",
    ")-> Callable:\n",
    "    \"\"\"create rectified linear unit function\"\"\"\n",
    "    y = weight*x+bias\n",
    "    return torch.clip(y, 0.) # alternatively it can be just F.relu(weight*x+bias)\n",
    "\n",
    "@interact(weight=1.5, bias=1.5)\n",
    "def plot_relu(weight, bias):\n",
    "    plot_function(partial(rectified_linear, weight, bias),ylim=(-1,4))"
   ]
  },
  {
   "cell_type": "markdown",
   "id": "3004fd5a-1cb2-4aab-b843-f45605707443",
   "metadata": {},
   "source": [
    "But the magic happens when you combine the rectified linear functions together, as seen below:"
   ]
  },
  {
   "cell_type": "code",
   "execution_count": 12,
   "id": "56db43f1-4659-4289-b394-cdb139fd07c0",
   "metadata": {
    "ExecuteTime": {
     "end_time": "2023-08-28T05:50:00.092683Z",
     "start_time": "2023-08-28T05:49:59.984887Z"
    },
    "tags": []
   },
   "outputs": [
    {
     "data": {
      "application/vnd.jupyter.widget-view+json": {
       "model_id": "ae7ed95cf94340febcb8e2d7c2eb587c",
       "version_major": 2,
       "version_minor": 0
      },
      "text/plain": [
       "interactive(children=(FloatSlider(value=-1.5, description='weight1', max=1.5, min=-4.5), FloatSlider(value=-1.…"
      ]
     },
     "metadata": {},
     "output_type": "display_data"
    }
   ],
   "source": [
    "def double_relu(\n",
    "    weight1:float,\n",
    "    bias1:float,\n",
    "    weight2:float,\n",
    "    bias2: float,\n",
    "    x\n",
    ")-> Callable:\n",
    "    return rectified_linear(weight1, bias1,x) + rectified_linear(weight2, bias2, x)\n",
    "\n",
    "@interact(weight1=-1.5, bias1=-1.5, weight2=1.5, bias2=1.5)\n",
    "def plot_double_relu(weight1, bias1, weight2, bias2):\n",
    "    plot_function(partial(double_relu, weight1, bias1, weight2, bias2), ylim=(-1,6))"
   ]
  },
  {
   "cell_type": "markdown",
   "id": "cef672ed-b7de-4aad-9310-596e7d72cd38",
   "metadata": {},
   "source": [
    "Let's try a triple relu:"
   ]
  },
  {
   "cell_type": "code",
   "execution_count": 13,
   "id": "6025e6a0-ac79-4898-9d32-6b2531bb68df",
   "metadata": {
    "ExecuteTime": {
     "end_time": "2023-08-28T05:50:00.202760Z",
     "start_time": "2023-08-28T05:50:00.094683Z"
    },
    "tags": []
   },
   "outputs": [
    {
     "data": {
      "application/vnd.jupyter.widget-view+json": {
       "model_id": "f6b30bdddf0d4442a99f5bcde0249222",
       "version_major": 2,
       "version_minor": 0
      },
      "text/plain": [
       "interactive(children=(FloatSlider(value=-1.5, description='weight1', max=1.5, min=-4.5), FloatSlider(value=-1.…"
      ]
     },
     "metadata": {},
     "output_type": "display_data"
    }
   ],
   "source": [
    "def triple_relu(\n",
    "    weight1:float,\n",
    "    bias1:float,\n",
    "    weight2:float,\n",
    "    bias2: float,\n",
    "    weight3: float,\n",
    "    bias3: float,\n",
    "    x\n",
    ")-> Callable:\n",
    "    return rectified_linear(weight1, bias1,x) + rectified_linear(weight2, bias2, x) + rectified_linear(weight3, bias3, x)\n",
    "\n",
    "@interact(weight1=-1.5, bias1=-1.5, weight2=1.5, bias2=1.5, weight3=1.5, bias3=1.5)\n",
    "def plot_double_relu(weight1, bias1, weight2, bias2, weight3, bias3):\n",
    "    plot_function(partial(triple_relu, weight1, bias1, weight2, bias2, weight3, bias3), ylim=(-1,6))"
   ]
  },
  {
   "cell_type": "markdown",
   "id": "3824f61e-07ab-413a-b447-24f72ee3585e",
   "metadata": {},
   "source": [
    "[With enough of these rectified linear functions added together, you could approximate any function with a single input to whatevery accuracy you like.](https://www.kaggle.com/code/jhoward/how-does-a-neural-net-really-work)"
   ]
  },
  {
   "cell_type": "markdown",
   "id": "69798512-e6ca-4c21-98b3-a99da8a134f6",
   "metadata": {
    "tags": []
   },
   "source": [
    "### [Simple net from scratch](https://github.com/fastai/fastbook/blob/master/04_mnist_basics.ipynb)\n",
    "\n",
    "In this very basic neural network, we have a non-linear function (ReLU function) between 2 linear models (without an optimizer)"
   ]
  },
  {
   "cell_type": "code",
   "execution_count": 14,
   "id": "e5303068-1502-400c-9950-74e66b8ad0e2",
   "metadata": {
    "ExecuteTime": {
     "end_time": "2023-08-28T05:50:00.217995Z",
     "start_time": "2023-08-28T05:50:00.204683Z"
    },
    "tags": []
   },
   "outputs": [],
   "source": [
    "def simple_net(xb:torch.FloatTensor)-> Callable:\n",
    "    \"\"\"basic neural net\"\"\"\n",
    "    res = xb@weight1 + bias1 # linear model\n",
    "    res = res.max(tensor(0.0)) # rectified linear unit \n",
    "    res = res@weight2 + bias2\n",
    "    setattr(res, \"params\", {'weight1':weight1, 'bias1':bias1, 'weight2':weight2, 'bias2':bias2})\n",
    "    return res"
   ]
  },
  {
   "cell_type": "markdown",
   "id": "f2d46ce0-fc02-47b1-94c0-dbb39023121d",
   "metadata": {
    "tags": []
   },
   "source": [
    "`@`: matrix multiplication   \n",
    "\n",
    "the dot product betwen the first matrix row and the the second matrix column can be visualized as below:  \n",
    "![](https://raw.githubusercontent.com/fastai/fastbook/823b69e00aa1e1c1a45fe88bd346f11e8f89c1ff//images/matmul2.svg)  \n",
    "source: https://github.com/fastai/fastbook/blob/master/04_mnist_basics.ipynb  \n",
    "\n",
    "or from [3 Blue 1 Brown: Matrix Multiplication](https://www.3blue1brown.com/lessons/matrix-multiplication)"
   ]
  },
  {
   "cell_type": "code",
   "execution_count": null,
   "id": "a8cfda87",
   "metadata": {},
   "outputs": [],
   "source": []
  }
 ],
 "metadata": {
  "kernelspec": {
   "display_name": "Python 3 (ipykernel)",
   "language": "python",
   "name": "python3"
  },
  "language_info": {
   "codemirror_mode": {
    "name": "ipython",
    "version": 3
   },
   "file_extension": ".py",
   "mimetype": "text/x-python",
   "name": "python",
   "nbconvert_exporter": "python",
   "pygments_lexer": "ipython3",
   "version": "3.8.17"
  },
  "toc": {
   "base_numbering": 1,
   "nav_menu": {},
   "number_sections": true,
   "sideBar": true,
   "skip_h1_title": false,
   "title_cell": "Table of Contents",
   "title_sidebar": "Contents",
   "toc_cell": false,
   "toc_position": {},
   "toc_section_display": true,
   "toc_window_display": false
  }
 },
 "nbformat": 4,
 "nbformat_minor": 5
}
